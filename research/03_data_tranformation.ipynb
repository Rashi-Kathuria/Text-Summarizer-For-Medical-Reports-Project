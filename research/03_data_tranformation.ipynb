{
 "cells": [
  {
   "cell_type": "code",
   "execution_count": 1,
   "metadata": {},
   "outputs": [],
   "source": [
    "import os"
   ]
  },
  {
   "cell_type": "code",
   "execution_count": 2,
   "metadata": {},
   "outputs": [
    {
     "data": {
      "text/plain": [
       "'e:\\\\Text-Summarizer-Project\\\\research'"
      ]
     },
     "execution_count": 2,
     "metadata": {},
     "output_type": "execute_result"
    }
   ],
   "source": [
    "%pwd"
   ]
  },
  {
   "cell_type": "code",
   "execution_count": 3,
   "metadata": {},
   "outputs": [],
   "source": [
    "os.chdir(\"../\")"
   ]
  },
  {
   "cell_type": "code",
   "execution_count": 4,
   "metadata": {},
   "outputs": [
    {
     "data": {
      "text/plain": [
       "'e:\\\\Text-Summarizer-Project'"
      ]
     },
     "execution_count": 4,
     "metadata": {},
     "output_type": "execute_result"
    }
   ],
   "source": [
    "%pwd"
   ]
  },
  {
   "cell_type": "code",
   "execution_count": 5,
   "metadata": {},
   "outputs": [],
   "source": [
    "from dataclasses import dataclass\n",
    "from pathlib import Path\n",
    "\n",
    "\n",
    "@dataclass(frozen=True)\n",
    "class DataTransformationConfig:\n",
    "    root_dir: Path\n",
    "    data_path: Path\n",
    "    tokenizer_name: Path"
   ]
  },
  {
   "cell_type": "code",
   "execution_count": 6,
   "metadata": {},
   "outputs": [],
   "source": [
    "from textSummarizer.constants import *\n",
    "from textSummarizer.utils.common import read_yaml, create_directories"
   ]
  },
  {
   "cell_type": "code",
   "execution_count": 7,
   "metadata": {},
   "outputs": [],
   "source": [
    "class ConfigurationManager:\n",
    "    def __init__(\n",
    "        self,\n",
    "        config_filepath = CONFIG_FILE_PATH,\n",
    "        params_filepath = PARAMS_FILE_PATH):\n",
    "\n",
    "        self.config = read_yaml(config_filepath)\n",
    "        self.params = read_yaml(params_filepath)\n",
    "\n",
    "        create_directories([self.config.artifacts_root])\n",
    "\n",
    "\n",
    "    \n",
    "    def get_data_transformation_config(self) -> DataTransformationConfig:\n",
    "        config = self.config.data_transformation\n",
    "\n",
    "        create_directories([config.root_dir])\n",
    "\n",
    "        data_transformation_config = DataTransformationConfig(\n",
    "            root_dir=config.root_dir,\n",
    "            data_path=config.data_path,\n",
    "            tokenizer_name = config.tokenizer_name\n",
    "        )\n",
    "\n",
    "        return data_transformation_config"
   ]
  },
  {
   "cell_type": "code",
   "execution_count": 8,
   "metadata": {},
   "outputs": [
    {
     "name": "stderr",
     "output_type": "stream",
     "text": [
      "c:\\Users\\Rashi Kathuria\\anaconda3\\envs\\textS\\Lib\\site-packages\\tqdm\\auto.py:21: TqdmWarning: IProgress not found. Please update jupyter and ipywidgets. See https://ipywidgets.readthedocs.io/en/stable/user_install.html\n",
      "  from .autonotebook import tqdm as notebook_tqdm\n"
     ]
    },
    {
     "name": "stdout",
     "output_type": "stream",
     "text": [
      "[2024-05-17 03:14:47,931: INFO: config: PyTorch version 2.3.0 available.]\n"
     ]
    }
   ],
   "source": [
    "#creating components\n",
    "import os\n",
    "from textSummarizer.logging import logger\n",
    "import pandas as pd\n",
    "from transformers import AutoTokenizer\n",
    "from datasets import load_dataset, load_from_disk"
   ]
  },
  {
   "cell_type": "code",
   "execution_count": 9,
   "metadata": {},
   "outputs": [],
   "source": [
    "# class DataTransformation:\n",
    "#     def __init__(self, config: DataTransformationConfig):\n",
    "#         self.config = config\n",
    "#         self.tokenizer = AutoTokenizer.from_pretrained(config.tokenizer_name)\n",
    "\n",
    "\n",
    "    \n",
    "#     def convert_examples_to_features(self,example_batch):\n",
    "#         input_encodings = self.tokenizer(example_batch['article'] , max_length = 1024, truncation = True )\n",
    "        \n",
    "#         with self.tokenizer.as_target_tokenizer():\n",
    "#             target_encodings = self.tokenizer(example_batch['abstract'], max_length = 128, truncation = True )\n",
    "            \n",
    "#         return {\n",
    "#             'input_ids' : input_encodings['input_ids'],\n",
    "#             'attention_mask': input_encodings['attention_mask'],\n",
    "#             'labels': target_encodings['input_ids']\n",
    "#         }\n",
    "    \n",
    "\n",
    "#     def convert(self):\n",
    "        \n",
    "#         # Check if the dataset path exists\n",
    "#         if not os.path.exists(self.config.data_path):\n",
    "#             raise FileNotFoundError(f\"Directory {self.config.data_path} does not exist.\")\n",
    "#         dataset_samsum = load_from_disk(self.config.data_path)\n",
    "#         dataset_samsum_pt = dataset_samsum.map(self.convert_examples_to_features, batched = True)\n",
    "#         dataset_samsum_pt.save_to_disk(os.path.join(self.config.root_dir,\"dataset\"))\n",
    "\n",
    "# import os\n",
    "# from datasets import Dataset, DatasetDict, Features, Value\n",
    "# import pandas as pd\n",
    "# from transformers import AutoTokenizer\n",
    "\n",
    "\n"
   ]
  },
  {
   "cell_type": "code",
   "execution_count": 10,
   "metadata": {},
   "outputs": [],
   "source": [
    "class DataTransformation:\n",
    "    def __init__(self, config: DataTransformationConfig):\n",
    "        self.config = config\n",
    "        self.tokenizer = AutoTokenizer.from_pretrained(config.tokenizer_name)\n",
    "    \n",
    "    def convert_examples_to_features(self, example_batch):\n",
    "        input_encodings = self.tokenizer(example_batch['article'] , max_length = 1024, truncation = True )\n",
    "\n",
    "        with self.tokenizer.as_target_tokenizer():\n",
    "            target_encodings = self.tokenizer(example_batch['abstract'], max_length = 128, truncation = True )\n",
    "\n",
    "        return {\n",
    "            'input_ids' : input_encodings['input_ids'],\n",
    "            'attention_mask': input_encodings['attention_mask'],\n",
    "            'labels': target_encodings['input_ids']\n",
    "        }\n",
    "    \n",
    "\n",
    "    def convert(self):\n",
    "        dataset = load_from_disk(self.config.data_path)\n",
    "        print(\"Dataset loaded\")\n",
    "        dataset_pt = dataset.map(self.convert_examples_to_features, batched = True)\n",
    "        dataset_pt.save_to_disk(os.path.join(self.config.root_dir,\"dataset\"))"
   ]
  },
  {
   "cell_type": "code",
   "execution_count": 11,
   "metadata": {},
   "outputs": [],
   "source": [
    "#creating pipeline\n",
    "# try:\n",
    "#     config = ConfigurationManager()\n",
    "#     data_transformation_config = config.get_data_transformation_config()\n",
    "#     data_transformation = DataTransformation(config=data_transformation_config)\n",
    "#     data_transformation.convert()\n",
    "# except Exception as e:\n",
    "#     raise e\n",
    "\n"
   ]
  },
  {
   "cell_type": "code",
   "execution_count": 10,
   "metadata": {},
   "outputs": [
    {
     "name": "stdout",
     "output_type": "stream",
     "text": [
      "[2024-05-17 03:21:50,212: INFO: common: yaml file: config\\config.yaml loaded successfully]\n",
      "[2024-05-17 03:21:50,216: INFO: common: yaml file: params.yaml loaded successfully]\n",
      "[2024-05-17 03:21:50,217: INFO: common: created directory at: artifacts]\n",
      "[2024-05-17 03:21:50,219: INFO: common: created directory at: artifacts/data_transformation]\n"
     ]
    },
    {
     "name": "stderr",
     "output_type": "stream",
     "text": [
      "c:\\Users\\Rashi Kathuria\\anaconda3\\envs\\textS\\Lib\\site-packages\\huggingface_hub\\file_download.py:1132: FutureWarning: `resume_download` is deprecated and will be removed in version 1.0.0. Downloads always resume when possible. If you want to force a new download, use `force_download=True`.\n",
      "  warnings.warn(\n",
      "Map: 100%|██████████| 10000/10000 [01:18<00:00, 127.87 examples/s]\n",
      "Map: 100%|██████████| 600/600 [00:05<00:00, 116.14 examples/s]\n",
      "Map: 100%|██████████| 600/600 [00:04<00:00, 122.56 examples/s]\n",
      "Saving the dataset (1/1 shards): 100%|██████████| 10000/10000 [00:00<00:00, 13250.29 examples/s]\n",
      "Saving the dataset (1/1 shards): 100%|██████████| 600/600 [00:00<00:00, 3214.03 examples/s]\n",
      "Saving the dataset (1/1 shards): 100%|██████████| 600/600 [00:00<00:00, 38002.78 examples/s]\n"
     ]
    },
    {
     "name": "stdout",
     "output_type": "stream",
     "text": [
      "Dataset saved successfully!\n"
     ]
    }
   ],
   "source": [
    "import os\n",
    "from datasets import Dataset, DatasetDict, Features, Value\n",
    "import pandas as pd\n",
    "from transformers import AutoTokenizer\n",
    "\n",
    "class DataTransformation:\n",
    "    def __init__(self, config: DataTransformationConfig):\n",
    "        self.config = config\n",
    "        self.tokenizer = AutoTokenizer.from_pretrained(config.tokenizer_name)\n",
    "\n",
    "    def convert_examples_to_features(self, examples):\n",
    "        # Ensure 'article' and 'abstract' are strings\n",
    "        articles = [str(article) for article in examples['article']]\n",
    "        abstracts = [str(abstract) for abstract in examples['abstract']]\n",
    "\n",
    "        # Tokenize with truncation and padding\n",
    "        inputs = self.tokenizer(\n",
    "            articles,\n",
    "            abstracts,\n",
    "            max_length=1024,\n",
    "            truncation=True,\n",
    "            padding='max_length'\n",
    "        )\n",
    "        return inputs\n",
    "\n",
    "    def convert(self):\n",
    "        # Load dataset folder\n",
    "        dataset_path = self.config.data_path\n",
    "        train_df = pd.read_csv(os.path.join(dataset_path, 'train', 'train.csv'))\n",
    "        test_df = pd.read_csv(os.path.join(dataset_path, 'test', 'test.csv'))\n",
    "        val_df = pd.read_csv(os.path.join(dataset_path, 'validation', 'validation.csv'))\n",
    "\n",
    "        # Optionally handle missing values (if needed)\n",
    "        # train_df['article'].fillna(\"EMPTY\", inplace=True)\n",
    "        # train_df['abstract'].fillna(\"EMPTY\", inplace=True)\n",
    "        # Repeat for test_df and val_df\n",
    "\n",
    "        # Define features\n",
    "        features = Features({\n",
    "            \"article\": Value(\"string\"),\n",
    "            \"abstract\": Value(\"string\")\n",
    "        })\n",
    "\n",
    "        # Create datasets from DataFrames\n",
    "        train_dataset = Dataset.from_pandas(train_df, features=features)\n",
    "        test_dataset = Dataset.from_pandas(test_df, features=features)\n",
    "        val_dataset = Dataset.from_pandas(val_df, features=features)\n",
    "\n",
    "        # Create DatasetDict\n",
    "        dataset = DatasetDict({\n",
    "            \"train\": train_dataset,\n",
    "            \"test\": test_dataset,\n",
    "            \"validation\": val_dataset\n",
    "        })\n",
    "\n",
    "        # Map each dataset to features\n",
    "        dataset = dataset.map(self.convert_examples_to_features, batched=True)\n",
    "\n",
    "        # Save processed datasets\n",
    "        output_path = os.path.join(self.config.root_dir, \"dataset\")\n",
    "        os.makedirs(output_path, exist_ok=True)\n",
    "        dataset.save_to_disk(output_path)\n",
    "        print(\"Dataset saved successfully!\")\n",
    "\n",
    "try:\n",
    "    config = ConfigurationManager()\n",
    "    data_transformation_config = config.get_data_transformation_config()\n",
    "    data_transformation = DataTransformation(config=data_transformation_config)\n",
    "    data_transformation.convert()\n",
    "except Exception as e:\n",
    "    print(f\"An error occurred: {e}\")\n"
   ]
  }
 ],
 "metadata": {
  "kernelspec": {
   "display_name": "textS",
   "language": "python",
   "name": "python3"
  },
  "language_info": {
   "codemirror_mode": {
    "name": "ipython",
    "version": 3
   },
   "file_extension": ".py",
   "mimetype": "text/x-python",
   "name": "python",
   "nbconvert_exporter": "python",
   "pygments_lexer": "ipython3",
   "version": "3.11.9"
  }
 },
 "nbformat": 4,
 "nbformat_minor": 2
}
